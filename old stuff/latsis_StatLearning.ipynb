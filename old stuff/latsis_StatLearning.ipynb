{
  "nbformat": 4,
  "nbformat_minor": 0,
  "metadata": {
    "accelerator": "GPU",
    "colab": {
      "provenance": [],
      "toc_visible": true
    },
    "kernelspec": {
      "display_name": "Python 3",
      "language": "python",
      "name": "python3"
    },
    "language_info": {
      "codemirror_mode": {
        "name": "ipython",
        "version": 3
      },
      "file_extension": ".py",
      "mimetype": "text/x-python",
      "name": "python",
      "nbconvert_exporter": "python",
      "pygments_lexer": "ipython3",
      "version": "3.9.2"
    },
    "gpuClass": "standard"
  },
  "cells": [
    {
      "cell_type": "markdown",
      "metadata": {
        "id": "DLCsPq6F2X-1"
      },
      "source": [
        "\n",
        "# hate speech detection\n"
      ]
    },
    {
      "cell_type": "markdown",
      "metadata": {
        "id": "EVr8sce42-Du"
      },
      "source": [
        "### Install and import necessary packages"
      ]
    },
    {
      "cell_type": "code",
      "metadata": {
        "id": "EbHoJEJd46mA"
      },
      "source": [
        "\n",
        "import numpy as np\n",
        "import pandas as pd\n",
        "from collections import Counter\n",
        "from sklearn.model_selection import train_test_split\n",
        "from sklearn.utils import shuffle\n"
      ],
      "execution_count": 1,
      "outputs": []
    },
    {
      "cell_type": "markdown",
      "metadata": {
        "id": "t8NsCc923Oy6"
      },
      "source": [
        "# Load data"
      ]
    },
    {
      "cell_type": "code",
      "source": [
        "from google.colab import drive\n",
        "drive.mount('/content/drive',force_remount=True)\n",
        "!ls '/content/drive/MyDrive/latsis'\n",
        "df_train = pd.read_csv('/content/drive/MyDrive/latsis/train.csv')\n",
        "df_dev = pd.read_csv('/content/drive/MyDrive/latsis/dev.csv')\n",
        "extra_data = pd.read_parquet('/content/drive/MyDrive/latsis/german_datasets.parquet')\n",
        "#df_test = pd.read_csv('/content/drive/MyDrive/latsis/test.csv')"
      ],
      "metadata": {
        "id": "FJv2V9mPUFP3",
        "colab": {
          "base_uri": "https://localhost:8080/"
        },
        "outputId": "b58e8a19-436b-491c-93d2-be3d657a967b"
      },
      "execution_count": 2,
      "outputs": [
        {
          "output_type": "stream",
          "name": "stdout",
          "text": [
            "Mounted at /content/drive\n",
            "dev.csv  german_datasets.parquet  train.csv\n"
          ]
        }
      ]
    },
    {
      "cell_type": "markdown",
      "source": [
        "### split train/val set"
      ],
      "metadata": {
        "id": "3pxLty5MeTGZ"
      }
    },
    {
      "cell_type": "code",
      "metadata": {
        "id": "rqbjWod972fJ"
      },
      "source": [
        "#convert to string\n",
        "\n",
        "extra_data[\"text\"] = extra_data[\"text\"].astype(str)\n",
        "df_train[\"text\"] = df_train[\"text\"].astype(str)\n",
        "df_dev[\"text\"] = df_dev[\"text\"].astype(str)\n",
        "\n",
        "#merge train and dev\n",
        "full = pd.concat([df_train, df_dev])\n",
        "\n",
        "#split train and test\n",
        "df_train, df_dev = train_test_split(full, test_size=0.2, random_state=42)\n",
        "\n",
        "train, dev = train_test_split(full, test_size=0.2, random_state=42)\n",
        "train = shuffle(train, random_state = 42)\n",
        "dev = shuffle(dev, random_state = 42)\n",
        "# X_train, y_train = shuffle(, random_state=42) # shuffle the training data\n",
        "# X_val, y_val = shuffle(X_val, y_val, random_state=42)"
      ],
      "execution_count": 3,
      "outputs": []
    },
    {
      "cell_type": "markdown",
      "source": [
        "## ML approaches\n",
        "### tf-idf"
      ],
      "metadata": {
        "id": "1d7_yKfbnkd_"
      }
    },
    {
      "cell_type": "code",
      "source": [
        "from zmq.constants import XPUB_NODROP\n",
        "from sklearn.feature_extraction.text import TfidfVectorizer\n",
        "from sklearn.preprocessing import StandardScaler\n",
        "#tf-idf\n",
        "vectorizer = TfidfVectorizer()\n",
        "scaler =  StandardScaler(with_mean=False)\n",
        "\n",
        "# Fit the tfidf model\n",
        "vectorizer = vectorizer.fit(train['text'])\n",
        "\n",
        "x_train = vectorizer.transform(train['text'])\n",
        "x_dev = vectorizer.transform(dev['text'])\n",
        "y_train = train['label']\n",
        "y_dev = dev['label']\n",
        "\n",
        "# Fit the scaler\n",
        "scaler.fit(x_train)\n",
        "\n",
        "x_train = scaler.transform(x_train)\n",
        "x_dev = scaler.transform(x_dev)\n",
        "\n",
        "print(\"X_train shape is {}\".format(x_train.shape))\n",
        "print(\"X_dev shape is {}\".format(x_dev.shape))"
      ],
      "metadata": {
        "colab": {
          "base_uri": "https://localhost:8080/"
        },
        "id": "WJ42g5vHeWR6",
        "outputId": "907cf2cb-d81a-4867-99d5-153ba8bc3f8c"
      },
      "execution_count": 4,
      "outputs": [
        {
          "output_type": "stream",
          "name": "stdout",
          "text": [
            "X_train shape is (7736, 23641)\n",
            "X_dev shape is (1934, 23641)\n"
          ]
        }
      ]
    },
    {
      "cell_type": "markdown",
      "source": [
        "### models fit"
      ],
      "metadata": {
        "id": "sxjCDBpU3hTB"
      }
    },
    {
      "cell_type": "code",
      "source": [
        "!pip3 install catboost"
      ],
      "metadata": {
        "colab": {
          "base_uri": "https://localhost:8080/"
        },
        "id": "VFff2cNXIbIG",
        "outputId": "60bd79af-e50a-4d88-f3fd-7bcef5d12820"
      },
      "execution_count": 6,
      "outputs": [
        {
          "output_type": "stream",
          "name": "stdout",
          "text": [
            "Collecting catboost\n",
            "  Downloading catboost-1.2.1-cp310-cp310-manylinux2014_x86_64.whl (98.7 MB)\n",
            "\u001b[2K     \u001b[90m━━━━━━━━━━━━━━━━━━━━━━━━━━━━━━━━━━━━━━━━\u001b[0m \u001b[32m98.7/98.7 MB\u001b[0m \u001b[31m9.2 MB/s\u001b[0m eta \u001b[36m0:00:00\u001b[0m\n",
            "\u001b[?25hRequirement already satisfied: graphviz in /usr/local/lib/python3.10/dist-packages (from catboost) (0.20.1)\n",
            "Requirement already satisfied: matplotlib in /usr/local/lib/python3.10/dist-packages (from catboost) (3.7.1)\n",
            "Requirement already satisfied: numpy>=1.16.0 in /usr/local/lib/python3.10/dist-packages (from catboost) (1.23.5)\n",
            "Requirement already satisfied: pandas>=0.24 in /usr/local/lib/python3.10/dist-packages (from catboost) (1.5.3)\n",
            "Requirement already satisfied: scipy in /usr/local/lib/python3.10/dist-packages (from catboost) (1.10.1)\n",
            "Requirement already satisfied: plotly in /usr/local/lib/python3.10/dist-packages (from catboost) (5.15.0)\n",
            "Requirement already satisfied: six in /usr/local/lib/python3.10/dist-packages (from catboost) (1.16.0)\n",
            "Requirement already satisfied: python-dateutil>=2.8.1 in /usr/local/lib/python3.10/dist-packages (from pandas>=0.24->catboost) (2.8.2)\n",
            "Requirement already satisfied: pytz>=2020.1 in /usr/local/lib/python3.10/dist-packages (from pandas>=0.24->catboost) (2023.3)\n",
            "Requirement already satisfied: contourpy>=1.0.1 in /usr/local/lib/python3.10/dist-packages (from matplotlib->catboost) (1.1.0)\n",
            "Requirement already satisfied: cycler>=0.10 in /usr/local/lib/python3.10/dist-packages (from matplotlib->catboost) (0.11.0)\n",
            "Requirement already satisfied: fonttools>=4.22.0 in /usr/local/lib/python3.10/dist-packages (from matplotlib->catboost) (4.42.1)\n",
            "Requirement already satisfied: kiwisolver>=1.0.1 in /usr/local/lib/python3.10/dist-packages (from matplotlib->catboost) (1.4.4)\n",
            "Requirement already satisfied: packaging>=20.0 in /usr/local/lib/python3.10/dist-packages (from matplotlib->catboost) (23.1)\n",
            "Requirement already satisfied: pillow>=6.2.0 in /usr/local/lib/python3.10/dist-packages (from matplotlib->catboost) (9.4.0)\n",
            "Requirement already satisfied: pyparsing>=2.3.1 in /usr/local/lib/python3.10/dist-packages (from matplotlib->catboost) (3.1.1)\n",
            "Requirement already satisfied: tenacity>=6.2.0 in /usr/local/lib/python3.10/dist-packages (from plotly->catboost) (8.2.3)\n",
            "Installing collected packages: catboost\n",
            "Successfully installed catboost-1.2.1\n"
          ]
        }
      ]
    },
    {
      "cell_type": "code",
      "source": [
        "from sklearn.metrics import mean_squared_error\n",
        "from sklearn.model_selection import KFold\n",
        "import sklearn.metrics as metrics\n",
        "from sklearn.svm import SVC\n",
        "from sklearn import svm\n",
        "from sklearn import datasets\n",
        "from sklearn.pipeline import make_pipeline\n",
        "from sklearn.preprocessing import PolynomialFeatures\n",
        "from sklearn.kernel_ridge import KernelRidge\n",
        "from sklearn.linear_model import Ridge, RidgeCV, ElasticNet\n",
        "from sklearn.model_selection import cross_val_score,StratifiedKFold\n",
        "from sklearn.metrics import mean_squared_error\n",
        "from sklearn.linear_model import LogisticRegression\n",
        "from sklearn.ensemble import RandomForestClassifier\n",
        "from sklearn.ensemble import AdaBoostClassifier\n",
        "from sklearn.impute import KNNImputer\n",
        "from sklearn.model_selection import train_test_split\n",
        "from sklearn.preprocessing import StandardScaler\n",
        "from sklearn.datasets import make_moons, make_circles, make_classification\n",
        "from sklearn.neural_network import MLPClassifier\n",
        "from sklearn.neighbors import KNeighborsClassifier\n",
        "from sklearn.svm import SVC\n",
        "from sklearn.gaussian_process import GaussianProcessClassifier\n",
        "from sklearn.gaussian_process.kernels import RBF\n",
        "from sklearn.tree import DecisionTreeClassifier\n",
        "from sklearn.ensemble import RandomForestClassifier, AdaBoostClassifier, GradientBoostingClassifier, HistGradientBoostingClassifier, ExtraTreesClassifier\n",
        "from sklearn.naive_bayes import GaussianNB\n",
        "from sklearn.discriminant_analysis import QuadraticDiscriminantAnalysis\n",
        "from sklearn.feature_selection import SelectKBest\n",
        "from sklearn.feature_selection import chi2\n",
        "from sklearn.cluster import KMeans\n",
        "from sklearn.decomposition import PCA\n",
        "from sklearn.ensemble import HistGradientBoostingRegressor, ExtraTreesRegressor, RandomForestRegressor, AdaBoostRegressor, GradientBoostingRegressor\n",
        "from sklearn.mixture import BayesianGaussianMixture, GaussianMixture\n",
        "from sklearn.kernel_approximation import Nystroem\n",
        "from sklearn.preprocessing import MinMaxScaler\n",
        "from sklearn.gaussian_process.kernels import *\n",
        "\n",
        "from tqdm import tqdm\n",
        "import xgboost as xgb\n",
        "import lightgbm as lgb\n",
        "from catboost import CatBoostClassifier, CatBoostRegressor\n",
        "from lightgbm import LGBMClassifier, LGBMRegressor\n",
        "from xgboost import XGBClassifier, XGBRFClassifier, XGBRegressor, XGBRFRegressor\n"
      ],
      "metadata": {
        "id": "m_lJKEMI4vxO"
      },
      "execution_count": 9,
      "outputs": []
    },
    {
      "cell_type": "code",
      "source": [
        "# SVM model\n",
        "\n",
        "from sklearn.svm import LinearSVC\n",
        "from joblib import dump, load\n",
        "import matplotlib.pyplot as plt\n",
        "\n",
        "# define model\n",
        "model = LinearSVC(class_weight='balanced', random_state=42)\n",
        "\n",
        "model.fit(x_train, y_train)\n",
        "from sklearn.metrics import f1_score, accuracy_score\n",
        "\n",
        "# Plotting scores\n",
        "y_pred = model.predict(x_dev)\n",
        "\n",
        "f1 = f1_score(y_dev, y_pred, average=\"macro\")\n",
        "print(\"Test f1 score : %s \"% f1)\n",
        "acc = accuracy_score(y_dev, y_pred)\n",
        "print(\"Test accuracy score : %s \"% acc)\n",
        "\n",
        "\n",
        "# from sklearn.metrics import ConfusionMatrixDisplay, confusion_matrix\n",
        "\n",
        "# # Plot confusion matrix\n",
        "# cm = confusion_matrix(y_dev, y_pred)\n",
        "# disp = ConfusionMatrixDisplay(confusion_matrix=cm, display_labels=[0,1])\n",
        "# disp.plot(cmap=plt.cm.Blues)\n",
        "# plt.show()"
      ],
      "metadata": {
        "colab": {
          "base_uri": "https://localhost:8080/"
        },
        "id": "54z3rTEj3C6u",
        "outputId": "681110ee-5b40-436c-c284-5b1407b9e49e"
      },
      "execution_count": 10,
      "outputs": [
        {
          "output_type": "stream",
          "name": "stdout",
          "text": [
            "Test f1 score : 0.5997503713947436 \n",
            "Test accuracy score : 0.5997931747673216 \n"
          ]
        },
        {
          "output_type": "stream",
          "name": "stderr",
          "text": [
            "/usr/local/lib/python3.10/dist-packages/sklearn/svm/_base.py:1244: ConvergenceWarning: Liblinear failed to converge, increase the number of iterations.\n",
            "  warnings.warn(\n"
          ]
        }
      ]
    },
    {
      "cell_type": "code",
      "source": [
        "models = [XGBClassifier(),\n",
        "          LGBMClassifier(),\n",
        "          CatBoostClassifier(logging_level='Silent'),\n",
        "          ExtraTreesClassifier(),\n",
        "          RandomForestClassifier(),\n",
        "          AdaBoostClassifier()]\n",
        "          # GaussianProcessClassifier(kernel=RationalQuadratic())\n",
        "\n",
        "for model in models:\n",
        "           model.fit(x_train, y_train)\n",
        "           y_pred = model.predict(x_dev)\n",
        "           f1 = f1_score(y_dev, y_pred, average=\"macro\")\n",
        "           print(\"Test f1 score : %s \"% f1)\n",
        "           acc = accuracy_score(y_dev, y_pred)\n",
        "           print(\"Test accuracy score : %s \"% acc)"
      ],
      "metadata": {
        "colab": {
          "base_uri": "https://localhost:8080/"
        },
        "id": "WCYIDCic6m34",
        "outputId": "922e7854-8f6c-4e2a-ca0e-c41ac30738c4"
      },
      "execution_count": 11,
      "outputs": [
        {
          "output_type": "stream",
          "name": "stdout",
          "text": [
            "Test f1 score : 0.6416675244467318 \n",
            "Test accuracy score : 0.6416752843846949 \n",
            "[LightGBM] [Info] Number of positive: 3863, number of negative: 3873\n",
            "[LightGBM] [Warning] Auto-choosing row-wise multi-threading, the overhead of testing was 0.035746 seconds.\n",
            "You can set `force_row_wise=true` to remove the overhead.\n",
            "And if memory is not enough, you can set `force_col_wise=true`.\n",
            "[LightGBM] [Info] Total Bins 30270\n",
            "[LightGBM] [Info] Number of data points in the train set: 7736, number of used features: 818\n",
            "[LightGBM] [Info] [binary:BoostFromScore]: pavg=0.499354 -> initscore=-0.002585\n",
            "[LightGBM] [Info] Start training from score -0.002585\n",
            "Test f1 score : 0.6401225557034922 \n",
            "Test accuracy score : 0.640124095139607 \n",
            "Test f1 score : 0.6592152495444414 \n",
            "Test accuracy score : 0.6592554291623578 \n",
            "Test f1 score : 0.6745154789469171 \n",
            "Test accuracy score : 0.6752843846949328 \n",
            "Test f1 score : 0.637793994732522 \n",
            "Test accuracy score : 0.6380558428128231 \n",
            "Test f1 score : 0.6112844095703627 \n",
            "Test accuracy score : 0.6122026887280249 \n"
          ]
        }
      ]
    }
  ]
}