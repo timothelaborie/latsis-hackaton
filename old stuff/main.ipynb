{
 "cells": [
  {
   "cell_type": "code",
   "execution_count": 1,
   "metadata": {},
   "outputs": [],
   "source": [
    "import pandas as pd\n",
    "import numpy as np\n",
    "\n",
    "import os\n",
    "cwd = os.getcwd()\n",
    "kaggle = cwd == \"/kaggle/working\"\n",
    "\n",
    "pretrain = pd.read_parquet((\"/kaggle/input/latsis-experiments/\" if kaggle else \"\") + \"german_datasets.parquet\")\n",
    "train = pd.read_parquet((\"/kaggle/input/latsis-experiments/\" if kaggle else \"\") + \"train.parquet\")\n",
    "test = pd.read_parquet((\"/kaggle/input/latsis-experiments/\" if kaggle else \"\") + \"test.parquet\")\n",
    "\n",
    "# train = pd.read_csv((\"/kaggle/input/latsis-experiments/\" if kaggle else \"\") + \"train.csv\")\n",
    "# dev = pd.read_csv((\"/kaggle/input/latsis-experiments/\" if kaggle else \"\") + \"dev.csv\")\n",
    "\n",
    "#convert to string\n",
    "# pretrain[\"text\"] = pretrain[\"text\"].astype(str)\n",
    "# train[\"text\"] = train[\"text\"].astype(str)\n",
    "# dev[\"text\"] = dev[\"text\"].astype(str)\n",
    "\n",
    "#merge train and dev\n",
    "# full = pd.concat([train, dev])\n",
    "\n",
    "full = pd.concat([train, test])\n",
    "\n",
    "#remove backslashes in the text\n",
    "# full[\"text\"] = full[\"text\"].str.replace(\"\\\\\", \"\").replace(\"\\\"\\\"\\\"\\\"\", \"\\\"\")\n",
    "\n",
    "#split train and test\n",
    "# from sklearn.model_selection import train_test_split\n",
    "# train, test = train_test_split(full, test_size=0.2, random_state=42)\n",
    "\n",
    "#keep only the first 1000 rows\n",
    "# pretrain = pretrain[:1000]\n",
    "# train = train[:100]\n",
    "# test = test[:2500]"
   ]
  },
  {
   "cell_type": "code",
   "execution_count": 2,
   "metadata": {},
   "outputs": [],
   "source": [
    "# for row in train.itertuples():\n",
    "#     text = row.text\n",
    "#     label = row.label\n",
    "#     print(label)\n",
    "#     print(text)"
   ]
  },
  {
   "cell_type": "code",
   "execution_count": 3,
   "metadata": {},
   "outputs": [
    {
     "data": {
      "text/plain": [
       "0.33233882475029186"
      ]
     },
     "execution_count": 3,
     "metadata": {},
     "output_type": "execute_result"
    }
   ],
   "source": [
    "train[\"label\"].sum()/len(train)"
   ]
  },
  {
   "cell_type": "code",
   "execution_count": 10,
   "metadata": {},
   "outputs": [
    {
     "name": "stdout",
     "output_type": "stream",
     "text": [
      "False\n",
      "'CUDASetup' object has no attribute 'cuda_available'\n"
     ]
    },
    {
     "name": "stderr",
     "output_type": "stream",
     "text": [
      "c:\\ProgramData\\Anaconda3\\lib\\site-packages\\bitsandbytes\\cextension.py:34: UserWarning: The installed version of bitsandbytes was compiled without GPU support. 8-bit optimizers, 8-bit multiplication, and GPU quantization are unavailable.\n",
      "  warn(\"The installed version of bitsandbytes was compiled without GPU support. \"\n",
      "'(ReadTimeoutError(\"HTTPSConnectionPool(host='huggingface.co', port=443): Read timed out. (read timeout=10)\"), '(Request ID: 05bb2ded-27b9-425a-8a88-ae7429c4a6d2)')' thrown while requesting HEAD https://huggingface.co/aari1995/German_Semantic_STS_V2/resolve/main/adapter_config.json\n",
      "Some weights of BertForSequenceClassification were not initialized from the model checkpoint at aari1995/German_Semantic_STS_V2 and are newly initialized: ['classifier.bias', 'classifier.weight']\n",
      "You should probably TRAIN this model on a down-stream task to be able to use it for predictions and inference.\n"
     ]
    },
    {
     "name": "stdout",
     "output_type": "stream",
     "text": [
      "model parameters:335736833\n"
     ]
    }
   ],
   "source": [
    "import torch\n",
    "from torch import nn\n",
    "from transformers import TrainingArguments, Trainer, AutoTokenizer, XLMRobertaTokenizerFast, AutoModelForSequenceClassification, AdamW, get_linear_schedule_with_warmup, TrainerCallback, TrainerControl, TrainingArguments\n",
    "\n",
    "\n",
    "# model_name = 'xlm-roberta-base'\n",
    "# model_name = \"microsoft/mdeberta-v3-base\"\n",
    "model_name = 'aari1995/German_Semantic_STS_V2'\n",
    "# model_name = \"deepset/gelectra-base\"\n",
    "# model_name = \"PM-AI/sts_paraphrase_xlm-roberta-base_de-en\"\n",
    "# model_name = \"intfloat/multilingual-e5-large\"\n",
    "# model_name = \"deutsche-telekom/gbert-large-paraphrase-euclidean\"\n",
    "# model_name = \"ZurichNLP/swissbert\"\n",
    "\n",
    "\n",
    "model = AutoModelForSequenceClassification.from_pretrained(model_name, num_labels=1, ignore_mismatched_sizes=True)\n",
    "tokenizer = AutoTokenizer.from_pretrained(model_name)\n",
    "if model_name == \"ZurichNLP/swissbert\":\n",
    "    model.set_default_language(\"de_CH\")\n",
    "\n",
    "\n",
    "\n",
    "config = model.config\n",
    "tokenizer.model_max_length = config.max_position_embeddings\n",
    "\n",
    "\n",
    "print(\"model parameters:\" + str(sum(p.numel() for p in model.parameters())))"
   ]
  },
  {
   "cell_type": "code",
   "execution_count": 11,
   "metadata": {},
   "outputs": [
    {
     "name": "stdout",
     "output_type": "stream",
     "text": [
      "torch.Size([15418, 128])\n"
     ]
    }
   ],
   "source": [
    "from torch.utils.data import Dataset\n",
    "import torch\n",
    "import numpy as np\n",
    "\n",
    "max_length = 128\n",
    "\n",
    "def encode_texts(tokenizer, texts):\n",
    "    input_ids = []\n",
    "    attention_masks = []\n",
    "    for text in texts:\n",
    "        encoding = tokenizer.encode_plus(\n",
    "            text,\n",
    "            add_special_tokens=True,\n",
    "            max_length=max_length,\n",
    "            truncation=True,\n",
    "            padding='max_length',\n",
    "            return_attention_mask=True\n",
    "        )\n",
    "        input_ids.append(encoding['input_ids'])\n",
    "        attention_masks.append(encoding['attention_mask'])\n",
    "    return torch.tensor(input_ids), torch.tensor(attention_masks)\n",
    "\n",
    "pretrain_x, pretrain_attention_mask = encode_texts(tokenizer, pretrain['text'])\n",
    "pretrain_y = torch.tensor(np.array(pretrain['label'].tolist()), dtype=torch.float32)\n",
    "\n",
    "train_x, train_attention_mask = encode_texts(tokenizer, train['text'])\n",
    "train_y = torch.tensor(np.array(train['label'].tolist()), dtype=torch.float32)\n",
    "\n",
    "test_x, test_attention_mask = encode_texts(tokenizer, test['text'])\n",
    "test_y = torch.tensor(np.array(test['label'].tolist()), dtype=torch.float32)\n",
    "\n",
    "warmup_x, warmup_attention_mask = encode_texts(tokenizer, train['text'][:1000])\n",
    "warmup_y = torch.tensor(np.array(train['label'].tolist())[:1000], dtype=torch.float32)\n",
    "\n",
    "#full official dataset for submission\n",
    "full_x, full_attention_mask = encode_texts(tokenizer, full['text'])\n",
    "full_y = torch.tensor(np.array(full['label'].tolist()), dtype=torch.float32)\n",
    "\n",
    "#mix of train and pretrain\n",
    "mixed_x = torch.cat((train_x, pretrain_x))\n",
    "mixed_attention_mask = torch.cat((train_attention_mask, pretrain_attention_mask))\n",
    "mixed_y = torch.cat((train_y, pretrain_y))\n",
    "\n",
    "\n",
    "class CustomDataset(Dataset):\n",
    "    def __init__(self, input_ids, attention_mask, label):\n",
    "        self.input_ids = input_ids\n",
    "        self.attention_mask = attention_mask\n",
    "        self.label = label\n",
    "\n",
    "    def __len__(self):\n",
    "        return len(self.input_ids)\n",
    "\n",
    "    def __getitem__(self, idx):\n",
    "        return {\n",
    "            'input_ids': self.input_ids[idx],\n",
    "            'attention_mask': self.attention_mask[idx],\n",
    "            'label': self.label[idx],\n",
    "        }\n",
    "\n",
    "pretrain_dataset = CustomDataset(pretrain_x, pretrain_attention_mask, pretrain_y)\n",
    "train_dataset = CustomDataset(train_x, train_attention_mask, train_y)\n",
    "val_dataset = CustomDataset(test_x, test_attention_mask, test_y)\n",
    "warmup_dataset = CustomDataset(warmup_x, warmup_attention_mask, warmup_y)\n",
    "full_dataset = CustomDataset(full_x, full_attention_mask, full_y)\n",
    "mixed_dataset = CustomDataset(mixed_x, mixed_attention_mask, mixed_y)\n",
    "\n",
    "print(full_x.shape)\n"
   ]
  },
  {
   "cell_type": "code",
   "execution_count": 12,
   "metadata": {},
   "outputs": [
    {
     "name": "stderr",
     "output_type": "stream",
     "text": [
      "c:\\ProgramData\\Anaconda3\\lib\\site-packages\\transformers\\optimization.py:411: FutureWarning: This implementation of AdamW is deprecated and will be removed in a future version. Use the PyTorch implementation torch.optim.AdamW instead, or set `no_deprecation_warning=True` to disable this warning\n",
      "  warnings.warn(\n",
      "Training Epoch 1: 100%|██████████| 250/250 [00:17<00:00, 14.64it/s]\n",
      "Validation Epoch 1:  11%|█         | 216/1928 [00:06<00:48, 35.09it/s]"
     ]
    },
    {
     "name": "stderr",
     "output_type": "stream",
     "text": [
      "Validation Epoch 1:  12%|█▏        | 228/1928 [00:06<00:54, 31.03it/s]"
     ]
    }
   ],
   "source": [
    "import torch\n",
    "from torch import nn\n",
    "from torch.nn import BCEWithLogitsLoss\n",
    "from torch.utils.data import DataLoader\n",
    "from transformers import AutoModelForSequenceClassification, AdamW, get_linear_schedule_with_warmup\n",
    "from tqdm import tqdm\n",
    "from sklearn.metrics import accuracy_score, f1_score\n",
    "import torch.nn.functional as F\n",
    "\n",
    "model = model.cuda()\n",
    "optimizer = None\n",
    "\n",
    "\n",
    "\n",
    "criterion = BCEWithLogitsLoss()\n",
    "\n",
    "# Training function\n",
    "def train(model, lr_per_epoch, train_dataset, val_dataset):\n",
    "    train_loader = DataLoader(train_dataset, batch_size=4, shuffle=True)\n",
    "    val_loader = DataLoader(val_dataset, batch_size=4)\n",
    "\n",
    "    for epoch in range(len(lr_per_epoch)):\n",
    "        model.train()\n",
    "        lr = lr_per_epoch[epoch]\n",
    "        optimizer.param_groups[0]['lr'] = lr\n",
    "        train_loss = 0.0\n",
    "\n",
    "        # Training loop with tqdm\n",
    "        for batch in tqdm(train_loader, desc=f\"Training Epoch {epoch+1}\"):\n",
    "            inputs = batch['input_ids'].cuda()\n",
    "            attention_mask = batch['attention_mask'].cuda()\n",
    "            labels = batch['label'].cuda()\n",
    "\n",
    "            outputs = model(inputs, attention_mask=attention_mask)\n",
    "            logits = outputs.logits.squeeze(-1)  # Remove the last dimension\n",
    "\n",
    "            loss = criterion(logits, labels)\n",
    "            loss.backward()\n",
    "\n",
    "            optimizer.step()\n",
    "            optimizer.zero_grad()\n",
    "            \n",
    "            train_loss += loss.item()\n",
    "            \n",
    "        avg_train_loss = train_loss / len(train_loader)\n",
    "        \n",
    "        if val_dataset is None:\n",
    "            print(f\"Train Loss: {avg_train_loss}\")\n",
    "            continue\n",
    "        # Validation loop\n",
    "        model.eval()\n",
    "        val_loss = 0.0\n",
    "        all_predictions_raw = []\n",
    "        all_labels = []\n",
    "\n",
    "        # Validation loop with tqdm\n",
    "        for batch in tqdm(val_loader, desc=f\"Validation Epoch {epoch+1}\"):\n",
    "            inputs = batch['input_ids'].cuda()\n",
    "            attention_mask = batch['attention_mask'].cuda()\n",
    "            labels = batch['label'].cuda()\n",
    "\n",
    "            with torch.no_grad():\n",
    "                outputs = model(inputs, attention_mask=attention_mask, labels=labels)\n",
    "                logits = outputs.logits.squeeze(-1)\n",
    "                val_loss += criterion(logits, labels).item()\n",
    "                pred = F.sigmoid(logits)\n",
    "                \n",
    "                all_predictions_raw.append(pred.cpu())\n",
    "                all_labels.append(labels.cpu())\n",
    "\n",
    "        avg_val_loss = val_loss / len(val_loader)\n",
    "        \n",
    "\n",
    "        all_predictions_raw = torch.cat(all_predictions_raw)\n",
    "        all_labels = torch.cat(all_labels)\n",
    "        accuracy = accuracy_score(all_labels.numpy(), all_predictions_raw.numpy() >= 0.5)\n",
    "        f1 = f1_score(all_labels.numpy(), all_predictions_raw.numpy() >= 0.5, average='macro')\n",
    "        print(f\"Train Loss: {avg_train_loss}, Val Loss: {avg_val_loss}, Accuracy: {accuracy}, f1: {f1}\")\n",
    "\n",
    "\n",
    "\n",
    "        \n",
    "\n",
    "        # print(f\"First predictions:\")\n",
    "        # i = 0\n",
    "        # for y_pred, y in zip(all_predictions_raw, all_labels):\n",
    "        #     print(f\"y_pred: {y_pred.item()}, y: {y}\")\n",
    "        #     i += 1\n",
    "        #     if i > 5:\n",
    "        #         break\n",
    "\n",
    "        print(\"\\n\")\n",
    "\n",
    "# Train the model\n",
    "\n",
    "# for param in model.parameters():\n",
    "#     param.requires_grad = False\n",
    "# for param in model.classifier.parameters():\n",
    "#     param.requires_grad = True\n",
    "# for i in range(-3, 0):\n",
    "#     for param in model.roberta.encoder.layer[i].parameters():\n",
    "#         param.requires_grad = True\n",
    "# optimizer = AdamW([param for param in model.parameters() if param.requires_grad], lr=1e-5)\n",
    "\n",
    "# train(model, [1e-9, 1e-5, 1e-5, 1e-5], mixed_dataset, val_dataset)\n",
    "\n",
    "\n",
    "\n",
    "for param in model.parameters():\n",
    "    param.requires_grad = False\n",
    "for param in model.classifier.parameters():\n",
    "    param.requires_grad = True\n",
    "for i in range(-3, 0):\n",
    "    # for param in model.roberta.encoder.layer[i].parameters():\n",
    "    for param in model.bert.encoder.layer[i].parameters():\n",
    "    # for param in model.deberta.encoder.layer[i].parameters():\n",
    "    # for param in model.electra.encoder.layer[i].parameters():\n",
    "        param.requires_grad = True\n",
    "optimizer = AdamW([param for param in model.parameters() if param.requires_grad], lr=1e-5)\n",
    "\n",
    "train(model, [1e-9], warmup_dataset, val_dataset)\n",
    "train(model, [1e-5], pretrain_dataset, val_dataset)\n",
    "train(model, [1e-5, 1e-5, 1e-5, 1e-5, 2e-6, 1e-6], train_dataset, val_dataset)\n",
    "\n",
    "# train(model, [1e-9], warmup_dataset, None)\n",
    "# train(model, [1e-5, 1e-5, 2e-6, 1e-6], full_dataset, None)\n",
    "\n"
   ]
  },
  {
   "cell_type": "code",
   "execution_count": 7,
   "metadata": {},
   "outputs": [
    {
     "data": {
      "text/html": [
       "<pre style=\"white-space:pre;overflow-x:auto;line-height:normal;font-family:Menlo,'DejaVu Sans Mono',consolas,'Courier New',monospace\"><span style=\"color: #800000; text-decoration-color: #800000\">╭─────────────────────────────── </span><span style=\"color: #800000; text-decoration-color: #800000; font-weight: bold\">Traceback </span><span style=\"color: #bf7f7f; text-decoration-color: #bf7f7f; font-weight: bold\">(most recent call last)</span><span style=\"color: #800000; text-decoration-color: #800000\"> ────────────────────────────────╮</span>\n",
       "<span style=\"color: #800000; text-decoration-color: #800000\">│</span> in <span style=\"color: #00ff00; text-decoration-color: #00ff00\">&lt;module&gt;</span>:<span style=\"color: #0000ff; text-decoration-color: #0000ff\">2</span>                                                                                    <span style=\"color: #800000; text-decoration-color: #800000\">│</span>\n",
       "<span style=\"color: #800000; text-decoration-color: #800000\">│</span>                                                                                                  <span style=\"color: #800000; text-decoration-color: #800000\">│</span>\n",
       "<span style=\"color: #800000; text-decoration-color: #800000\">│</span>   <span style=\"color: #7f7f7f; text-decoration-color: #7f7f7f\"> 1 # Save the model</span>                                                                            <span style=\"color: #800000; text-decoration-color: #800000\">│</span>\n",
       "<span style=\"color: #800000; text-decoration-color: #800000\">│</span> <span style=\"color: #800000; text-decoration-color: #800000\">❱ </span> 2 model_name = model_name.replace(<span style=\"color: #808000; text-decoration-color: #808000\">\"/\"</span>, <span style=\"color: #808000; text-decoration-color: #808000\">\"_\"</span>)                                                   <span style=\"color: #800000; text-decoration-color: #800000\">│</span>\n",
       "<span style=\"color: #800000; text-decoration-color: #800000\">│</span>   <span style=\"color: #7f7f7f; text-decoration-color: #7f7f7f\"> 3 </span><span style=\"color: #0000ff; text-decoration-color: #0000ff\">if</span> <span style=\"color: #ff00ff; text-decoration-color: #ff00ff\">not</span> os.path.exists(<span style=\"color: #808000; text-decoration-color: #808000\">'ensemble'</span>):                                                          <span style=\"color: #800000; text-decoration-color: #800000\">│</span>\n",
       "<span style=\"color: #800000; text-decoration-color: #800000\">│</span>   <span style=\"color: #7f7f7f; text-decoration-color: #7f7f7f\"> 4 </span><span style=\"color: #7f7f7f; text-decoration-color: #7f7f7f\">│   </span>os.makedirs(<span style=\"color: #808000; text-decoration-color: #808000\">'ensemble'</span>)                                                                 <span style=\"color: #800000; text-decoration-color: #800000\">│</span>\n",
       "<span style=\"color: #800000; text-decoration-color: #800000\">│</span>   <span style=\"color: #7f7f7f; text-decoration-color: #7f7f7f\"> 5 </span><span style=\"color: #0000ff; text-decoration-color: #0000ff\">if</span> <span style=\"color: #ff00ff; text-decoration-color: #ff00ff\">not</span> os.path.exists(<span style=\"color: #808000; text-decoration-color: #808000\">'ensemble/'</span> + model_name):                                            <span style=\"color: #800000; text-decoration-color: #800000\">│</span>\n",
       "<span style=\"color: #800000; text-decoration-color: #800000\">╰──────────────────────────────────────────────────────────────────────────────────────────────────╯</span>\n",
       "<span style=\"color: #ff0000; text-decoration-color: #ff0000; font-weight: bold\">NameError: </span>name <span style=\"color: #008000; text-decoration-color: #008000\">'model_name'</span> is not defined\n",
       "</pre>\n"
      ],
      "text/plain": [
       "\u001b[31m╭─\u001b[0m\u001b[31m──────────────────────────────\u001b[0m\u001b[31m \u001b[0m\u001b[1;31mTraceback \u001b[0m\u001b[1;2;31m(most recent call last)\u001b[0m\u001b[31m \u001b[0m\u001b[31m───────────────────────────────\u001b[0m\u001b[31m─╮\u001b[0m\n",
       "\u001b[31m│\u001b[0m in \u001b[92m<module>\u001b[0m:\u001b[94m2\u001b[0m                                                                                    \u001b[31m│\u001b[0m\n",
       "\u001b[31m│\u001b[0m                                                                                                  \u001b[31m│\u001b[0m\n",
       "\u001b[31m│\u001b[0m   \u001b[2m 1 \u001b[0m\u001b[2m# Save the model\u001b[0m                                                                            \u001b[31m│\u001b[0m\n",
       "\u001b[31m│\u001b[0m \u001b[31m❱ \u001b[0m 2 model_name = model_name.replace(\u001b[33m\"\u001b[0m\u001b[33m/\u001b[0m\u001b[33m\"\u001b[0m, \u001b[33m\"\u001b[0m\u001b[33m_\u001b[0m\u001b[33m\"\u001b[0m)                                                   \u001b[31m│\u001b[0m\n",
       "\u001b[31m│\u001b[0m   \u001b[2m 3 \u001b[0m\u001b[94mif\u001b[0m \u001b[95mnot\u001b[0m os.path.exists(\u001b[33m'\u001b[0m\u001b[33mensemble\u001b[0m\u001b[33m'\u001b[0m):                                                          \u001b[31m│\u001b[0m\n",
       "\u001b[31m│\u001b[0m   \u001b[2m 4 \u001b[0m\u001b[2m│   \u001b[0mos.makedirs(\u001b[33m'\u001b[0m\u001b[33mensemble\u001b[0m\u001b[33m'\u001b[0m)                                                                 \u001b[31m│\u001b[0m\n",
       "\u001b[31m│\u001b[0m   \u001b[2m 5 \u001b[0m\u001b[94mif\u001b[0m \u001b[95mnot\u001b[0m os.path.exists(\u001b[33m'\u001b[0m\u001b[33mensemble/\u001b[0m\u001b[33m'\u001b[0m + model_name):                                            \u001b[31m│\u001b[0m\n",
       "\u001b[31m╰──────────────────────────────────────────────────────────────────────────────────────────────────╯\u001b[0m\n",
       "\u001b[1;91mNameError: \u001b[0mname \u001b[32m'model_name'\u001b[0m is not defined\n"
      ]
     },
     "metadata": {},
     "output_type": "display_data"
    }
   ],
   "source": [
    "# Save the model\n",
    "model_name = model_name.replace(\"/\", \"_\")\n",
    "if not os.path.exists('ensemble'):\n",
    "    os.makedirs('ensemble')\n",
    "if not os.path.exists('ensemble/' + model_name):\n",
    "    os.makedirs('ensemble/' + model_name)\n",
    "torch.save(model, f'/kaggle/working/ensemble/{model_name}/model.pt' if kaggle else f'{model_name}.pt')\n",
    "torch.save(tokenizer, f'/kaggle/working/ensemble/{model_name}/tokenizer.pt' if kaggle else f'{model_name}_tokenizer.pt')\n",
    "print(\"saved\")"
   ]
  },
  {
   "cell_type": "code",
   "execution_count": 8,
   "metadata": {},
   "outputs": [],
   "source": [
    "#delete /kaggle/working/ensemble/ZurichNLP\n",
    "# os.system(\"rm -rf /kaggle/working/model.pt\")"
   ]
  },
  {
   "cell_type": "code",
   "execution_count": 9,
   "metadata": {},
   "outputs": [],
   "source": [
    "# import paramiko\n",
    "# from scp import SCPClient\n",
    "\n",
    "# # Initialize SSH client\n",
    "# ssh = paramiko.SSHClient()\n",
    "# ssh.set_missing_host_key_policy(paramiko.AutoAddPolicy())\n",
    "\n",
    "# # Connect to the server\n",
    "# ssh.connect('192.9.155.103', username='ubuntu', key_filename='/kaggle/input/latsis-experiments/ByteBouncers.pem')\n",
    "\n",
    "# # Securely copy the file\n",
    "# with SCPClient(ssh.get_transport()) as scp:\n",
    "#     scp.get('/home/ubuntu/hackaton/semantic.pt', '/kaggle/working/ensemble/semantic2/model.pt')\n",
    "\n",
    "# # Close the SSH connection\n",
    "# ssh.close()\n"
   ]
  }
 ],
 "metadata": {
  "kernelspec": {
   "display_name": "base",
   "language": "python",
   "name": "python3"
  },
  "language_info": {
   "codemirror_mode": {
    "name": "ipython",
    "version": 3
   },
   "file_extension": ".py",
   "mimetype": "text/x-python",
   "name": "python",
   "nbconvert_exporter": "python",
   "pygments_lexer": "ipython3",
   "version": "3.9.7"
  },
  "orig_nbformat": 4
 },
 "nbformat": 4,
 "nbformat_minor": 2
}
