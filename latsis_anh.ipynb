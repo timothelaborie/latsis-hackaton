{
  "cells": [
    {
      "attachments": {},
      "cell_type": "markdown",
      "metadata": {
        "id": "DLCsPq6F2X-1"
      },
      "source": [
        "\n",
        "# hate speech detection\n"
      ]
    },
    {
      "attachments": {},
      "cell_type": "markdown",
      "metadata": {
        "id": "EVr8sce42-Du"
      },
      "source": [
        "### Install and import necessary packages"
      ]
    },
    {
      "cell_type": "code",
      "execution_count": 1,
      "metadata": {
        "id": "EbHoJEJd46mA"
      },
      "outputs": [],
      "source": [
        "\n",
        "import numpy as np\n",
        "import pandas as pd\n",
        "from collections import Counter\n",
        "from sklearn.model_selection import train_test_split\n",
        "from sklearn.utils import shuffle\n"
      ]
    },
    {
      "attachments": {},
      "cell_type": "markdown",
      "metadata": {
        "id": "t8NsCc923Oy6"
      },
      "source": [
        "# Load data"
      ]
    },
    {
      "cell_type": "code",
      "execution_count": 3,
      "metadata": {
        "colab": {
          "base_uri": "https://localhost:8080/"
        },
        "id": "FJv2V9mPUFP3",
        "outputId": "b3306ca9-c20b-4834-f278-d08e6b549beb"
      },
      "outputs": [],
      "source": [
        "# from google.colab import drive\n",
        "# drive.mount('/content/drive',force_remount=True)\n",
        "# !ls '/content/drive/MyDrive/latsis'\n",
        "# df_train = pd.read_csv('/content/drive/MyDrive/latsis/train.csv')\n",
        "# extra_data = pd.read_csv('/content/drive/MyDrive/latsis/dev.csv')\n",
        "# df_extra = pd.read_parquet('/content/drive/MyDrive/latsis/german_datasets.parquet')\n",
        "\n",
        "df_train = pd.read_csv('train.csv')\n",
        "df_dev = pd.read_csv('dev.csv')\n",
        "df_extra = pd.read_parquet('german_datasets.parquet')\n"
      ]
    },
    {
      "attachments": {},
      "cell_type": "markdown",
      "metadata": {
        "id": "3pxLty5MeTGZ"
      },
      "source": [
        "### split train/val set"
      ]
    },
    {
      "cell_type": "code",
      "execution_count": 5,
      "metadata": {
        "id": "rqbjWod972fJ"
      },
      "outputs": [],
      "source": [
        "#convert to string\n",
        "\n",
        "df_extra[\"text\"] = df_extra[\"text\"].astype(str)\n",
        "df_train[\"text\"] = df_train[\"text\"].astype(str)\n",
        "df_dev[\"text\"] = df_dev[\"text\"].astype(str)\n",
        "\n",
        "#merge train and dev\n",
        "full = pd.concat([df_train, df_dev])\n",
        "\n",
        "#split train and test\n",
        "df_train, df_dev = train_test_split(full, test_size=0.2, random_state=42)\n",
        "\n",
        "train, dev = train_test_split(full, test_size=0.2, random_state=42)"
      ]
    },
    {
      "attachments": {},
      "cell_type": "markdown",
      "metadata": {
        "id": "1d7_yKfbnkd_"
      },
      "source": [
        "## ML approaches\n",
        "### tf-idf"
      ]
    },
    {
      "cell_type": "code",
      "execution_count": 6,
      "metadata": {
        "colab": {
          "base_uri": "https://localhost:8080/"
        },
        "id": "WJ42g5vHeWR6",
        "outputId": "d5a5e342-c49d-47f6-8531-4d2d3f94b8a4"
      },
      "outputs": [
        {
          "name": "stdout",
          "output_type": "stream",
          "text": [
            "X_train shape is (7736, 23617)\n",
            "X_dev shape is (1934, 23617)\n"
          ]
        }
      ],
      "source": [
        "#from zmq.constants import XPUB_NODROP\n",
        "from sklearn.feature_extraction.text import TfidfVectorizer\n",
        "from sklearn.preprocessing import StandardScaler\n",
        "#tf-idf\n",
        "vectorizer = TfidfVectorizer()\n",
        "scaler =  StandardScaler(with_mean=False)\n",
        "\n",
        "# Fit the tfidf model\n",
        "vectorizer = vectorizer.fit(train['text'])\n",
        "\n",
        "x_train = vectorizer.transform(train['text'])\n",
        "x_dev = vectorizer.transform(dev['text'])\n",
        "y_train = train['label']\n",
        "y_dev = dev['label']\n",
        "\n",
        "# Fit the scaler\n",
        "scaler.fit(x_train)\n",
        "\n",
        "x_train = scaler.transform(x_train)\n",
        "x_dev = scaler.transform(x_dev)\n",
        "\n",
        "print(\"X_train shape is {}\".format(x_train.shape))\n",
        "print(\"X_dev shape is {}\".format(x_dev.shape))"
      ]
    },
    {
      "attachments": {},
      "cell_type": "markdown",
      "metadata": {
        "id": "sxjCDBpU3hTB"
      },
      "source": [
        "### models fit"
      ]
    },
    {
      "cell_type": "code",
      "execution_count": 7,
      "metadata": {
        "colab": {
          "base_uri": "https://localhost:8080/",
          "height": 537
        },
        "id": "54z3rTEj3C6u",
        "outputId": "0a16cf06-d89c-4837-dbbc-5a2044fced09"
      },
      "outputs": [
        {
          "name": "stderr",
          "output_type": "stream",
          "text": [
            "c:\\ProgramData\\Anaconda3\\lib\\site-packages\\sklearn\\svm\\_base.py:1206: ConvergenceWarning: Liblinear failed to converge, increase the number of iterations.\n",
            "  warnings.warn(\n"
          ]
        },
        {
          "name": "stdout",
          "output_type": "stream",
          "text": [
            "Test f1 score : 0.6204070936550721 \n",
            "Test accuracy score : 0.6204756980351603 \n"
          ]
        },
        {
          "data": {
            "image/png": "[encoded data removed]",
            "text/plain": [
              "<Figure size 432x288 with 2 Axes>"
            ]
          },
          "metadata": {
            "needs_background": "light"
          },
          "output_type": "display_data"
        }
      ],
      "source": [
        "# SVM model\n",
        "\n",
        "from sklearn.svm import LinearSVC\n",
        "from joblib import dump, load\n",
        "import matplotlib.pyplot as plt\n",
        "\n",
        "# define model\n",
        "model = LinearSVC(class_weight='balanced', random_state=42)\n",
        "\n",
        "model.fit(x_train, y_train)\n",
        "from sklearn.metrics import f1_score, accuracy_score\n",
        "\n",
        "# Plotting scores\n",
        "y_pred = model.predict(x_dev)\n",
        "\n",
        "f1 = f1_score(y_dev, y_pred, average=\"macro\")\n",
        "print(\"Test f1 score : %s \"% f1)\n",
        "\n",
        "acc = accuracy_score(y_dev, y_pred)\n",
        "print(\"Test accuracy score : %s \"% acc)\n",
        "\n",
        "from sklearn.metrics import ConfusionMatrixDisplay, confusion_matrix\n",
        "\n",
        "# Plot confusion matrix\n",
        "cm = confusion_matrix(y_dev, y_pred)\n",
        "\n",
        "disp = ConfusionMatrixDisplay(confusion_matrix=cm, display_labels=[0,1])\n",
        "\n",
        "disp.plot(cmap=plt.cm.Blues)\n",
        "plt.show()"
      ]
    }
  ],
  "metadata": {
    "accelerator": "GPU",
    "colab": {
      "provenance": [],
      "toc_visible": true
    },
    "gpuClass": "standard",
    "kernelspec": {
      "display_name": "Python 3",
      "language": "python",
      "name": "python3"
    },
    "language_info": {
      "codemirror_mode": {
        "name": "ipython",
        "version": 3
      },
      "file_extension": ".py",
      "mimetype": "text/x-python",
      "name": "python",
      "nbconvert_exporter": "python",
      "pygments_lexer": "ipython3",
      "version": "3.9.7"
    }
  },
  "nbformat": 4,
  "nbformat_minor": 0
}
