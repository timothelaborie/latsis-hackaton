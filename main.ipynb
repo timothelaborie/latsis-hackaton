{
 "cells": [
  {
   "cell_type": "code",
   "execution_count": 11,
   "metadata": {},
   "outputs": [],
   "source": [
    "import pandas as pd\n",
    "import numpy as np\n",
    "\n",
    "import os\n",
    "cwd = os.getcwd()\n",
    "kaggle = cwd == \"/kaggle/working\"\n",
    "\n",
    "pretrain = pd.read_parquet((\"/kaggle/input/latsis-experiments/\" if kaggle else \"\") + \"pretrain.parquet\")\n",
    "train = pd.read_parquet((\"/kaggle/input/latsis-experiments/\" if kaggle else \"\") + \"train.parquet\")\n",
    "test = pd.read_parquet((\"/kaggle/input/latsis-experiments/\" if kaggle else \"\") + \"test.parquet\")\n",
    "\n",
    "#small dataset for testing code\n",
    "# pretrain = pretrain[:1000]\n",
    "# train = train[:100]\n",
    "# test = test[:2500]"
   ]
  },
  {
   "cell_type": "code",
   "execution_count": 15,
   "metadata": {},
   "outputs": [],
   "source": [
    "# for row in train.itertuples():\n",
    "#     text = row.text\n",
    "#     label = row.label\n",
    "#     print(label)\n",
    "#     print(text)"
   ]
  },
  {
   "cell_type": "code",
   "execution_count": 16,
   "metadata": {},
   "outputs": [
    {
     "data": {
      "text/plain": [
       "0.33233882475029186"
      ]
     },
     "execution_count": 16,
     "metadata": {},
     "output_type": "execute_result"
    }
   ],
   "source": [
    "train[\"label\"].sum()/len(train)"
   ]
  },
  {
   "cell_type": "code",
   "execution_count": 17,
   "metadata": {},
   "outputs": [
    {
     "name": "stdout",
     "output_type": "stream",
     "text": [
      "bin c:\\ProgramData\\Anaconda3\\lib\\site-packages\\bitsandbytes\\libbitsandbytes_cuda118.dll\n"
     ]
    },
    {
     "name": "stderr",
     "output_type": "stream",
     "text": [
      "Some weights of BertForSequenceClassification were not initialized from the model checkpoint at aari1995/German_Semantic_STS_V2 and are newly initialized: ['classifier.bias', 'classifier.weight']\n",
      "You should probably TRAIN this model on a down-stream task to be able to use it for predictions and inference.\n"
     ]
    },
    {
     "name": "stdout",
     "output_type": "stream",
     "text": [
      "model parameters:335736833\n"
     ]
    }
   ],
   "source": [
    "import torch\n",
    "from torch import nn\n",
    "from transformers import AutoTokenizer, AutoModelForSequenceClassification\n",
    "\n",
    "# All of these models were used in the ensemble\n",
    "\n",
    "# model_name = 'xlm-roberta-base'\n",
    "# model_name = \"microsoft/mdeberta-v3-base\"\n",
    "model_name = 'aari1995/German_Semantic_STS_V2'\n",
    "# model_name = \"deepset/gelectra-base\"\n",
    "# model_name = \"PM-AI/sts_paraphrase_xlm-roberta-base_de-en\"\n",
    "# model_name = \"intfloat/multilingual-e5-large\"\n",
    "# model_name = \"deutsche-telekom/gbert-large-paraphrase-euclidean\"\n",
    "# model_name = \"ZurichNLP/swissbert\"\n",
    "\n",
    "\n",
    "model = AutoModelForSequenceClassification.from_pretrained(model_name, num_labels=1, ignore_mismatched_sizes=True)\n",
    "tokenizer = AutoTokenizer.from_pretrained(model_name)\n",
    "if model_name == \"ZurichNLP/swissbert\":\n",
    "    model.set_default_language(\"de_CH\")\n",
    "\n",
    "\n",
    "\n",
    "config = model.config\n",
    "tokenizer.model_max_length = config.max_position_embeddings\n",
    "\n",
    "\n",
    "print(\"model parameters:\" + str(sum(p.numel() for p in model.parameters())))"
   ]
  },
  {
   "cell_type": "code",
   "execution_count": 18,
   "metadata": {},
   "outputs": [],
   "source": [
    "from torch.utils.data import Dataset\n",
    "import torch\n",
    "import numpy as np\n",
    "\n",
    "max_length = 128\n",
    "\n",
    "def encode_texts(tokenizer, texts):\n",
    "    input_ids = []\n",
    "    attention_masks = []\n",
    "    for text in texts:\n",
    "        encoding = tokenizer.encode_plus(\n",
    "            text,\n",
    "            add_special_tokens=True,\n",
    "            max_length=max_length,\n",
    "            truncation=True,\n",
    "            padding='max_length',\n",
    "            return_attention_mask=True\n",
    "        )\n",
    "        input_ids.append(encoding['input_ids'])\n",
    "        attention_masks.append(encoding['attention_mask'])\n",
    "    return torch.tensor(input_ids), torch.tensor(attention_masks)\n",
    "\n",
    "pretrain_x, pretrain_attention_mask = encode_texts(tokenizer, pretrain['text'])\n",
    "pretrain_y = torch.tensor(np.array(pretrain['label'].tolist()), dtype=torch.float32)\n",
    "\n",
    "train_x, train_attention_mask = encode_texts(tokenizer, train['text'])\n",
    "train_y = torch.tensor(np.array(train['label'].tolist()), dtype=torch.float32)\n",
    "\n",
    "test_x, test_attention_mask = encode_texts(tokenizer, test['text'])\n",
    "test_y = torch.tensor(np.array(test['label'].tolist()), dtype=torch.float32)\n",
    "\n",
    "warmup_x, warmup_attention_mask = encode_texts(tokenizer, train['text'][:1000])\n",
    "warmup_y = torch.tensor(np.array(train['label'].tolist())[:1000], dtype=torch.float32)\n",
    "\n",
    "#mix of train and pretrain (wasn't used)\n",
    "mixed_x = torch.cat((train_x, pretrain_x))\n",
    "mixed_attention_mask = torch.cat((train_attention_mask, pretrain_attention_mask))\n",
    "mixed_y = torch.cat((train_y, pretrain_y))\n",
    "\n",
    "\n",
    "class CustomDataset(Dataset):\n",
    "    def __init__(self, input_ids, attention_mask, label):\n",
    "        self.input_ids = input_ids\n",
    "        self.attention_mask = attention_mask\n",
    "        self.label = label\n",
    "\n",
    "    def __len__(self):\n",
    "        return len(self.input_ids)\n",
    "\n",
    "    def __getitem__(self, idx):\n",
    "        return {\n",
    "            'input_ids': self.input_ids[idx],\n",
    "            'attention_mask': self.attention_mask[idx],\n",
    "            'label': self.label[idx],\n",
    "        }\n",
    "\n",
    "pretrain_dataset = CustomDataset(pretrain_x, pretrain_attention_mask, pretrain_y)\n",
    "train_dataset = CustomDataset(train_x, train_attention_mask, train_y)\n",
    "val_dataset = CustomDataset(test_x, test_attention_mask, test_y)\n",
    "warmup_dataset = CustomDataset(warmup_x, warmup_attention_mask, warmup_y)\n",
    "mixed_dataset = CustomDataset(mixed_x, mixed_attention_mask, mixed_y)\n",
    "\n",
    "\n"
   ]
  },
  {
   "cell_type": "code",
   "execution_count": 19,
   "metadata": {},
   "outputs": [
    {
     "name": "stderr",
     "output_type": "stream",
     "text": [
      "c:\\ProgramData\\Anaconda3\\lib\\site-packages\\transformers\\optimization.py:411: FutureWarning: This implementation of AdamW is deprecated and will be removed in a future version. Use the PyTorch implementation torch.optim.AdamW instead, or set `no_deprecation_warning=True` to disable this warning\n",
      "  warnings.warn(\n",
      "Training Epoch 1:  82%|████████▏ | 204/250 [01:12<00:01, 25.37it/s]"
     ]
    }
   ],
   "source": [
    "import torch\n",
    "from torch import nn\n",
    "from torch.nn import BCEWithLogitsLoss\n",
    "from torch.utils.data import DataLoader\n",
    "from transformers import AutoModelForSequenceClassification, AdamW, get_linear_schedule_with_warmup\n",
    "from tqdm import tqdm\n",
    "from sklearn.metrics import accuracy_score, f1_score\n",
    "import torch.nn.functional as F\n",
    "\n",
    "model = model.cuda()\n",
    "optimizer = None\n",
    "criterion = BCEWithLogitsLoss()\n",
    "\n",
    "# Training function\n",
    "def train(model, lr_per_epoch, train_dataset, val_dataset):\n",
    "    train_loader = DataLoader(train_dataset, batch_size=4, shuffle=True)\n",
    "    val_loader = DataLoader(val_dataset, batch_size=4)\n",
    "\n",
    "    for epoch in range(len(lr_per_epoch)):\n",
    "        model.train()\n",
    "        lr = lr_per_epoch[epoch]\n",
    "        optimizer.param_groups[0]['lr'] = lr\n",
    "        train_loss = 0.0\n",
    "\n",
    "        # Training loop with tqdm\n",
    "        for batch in tqdm(train_loader, desc=f\"Training Epoch {epoch+1}\"):\n",
    "            inputs = batch['input_ids'].cuda()\n",
    "            attention_mask = batch['attention_mask'].cuda()\n",
    "            labels = batch['label'].cuda()\n",
    "\n",
    "            outputs = model(inputs, attention_mask=attention_mask)\n",
    "            logits = outputs.logits.squeeze(-1)  # Remove the last dimension\n",
    "\n",
    "            loss = criterion(logits, labels)\n",
    "            loss.backward()\n",
    "\n",
    "            optimizer.step()\n",
    "            optimizer.zero_grad()\n",
    "            \n",
    "            train_loss += loss.item()\n",
    "            \n",
    "        avg_train_loss = train_loss / len(train_loader)\n",
    "        \n",
    "        if val_dataset is None:\n",
    "            print(f\"Train Loss: {avg_train_loss}\")\n",
    "            continue\n",
    "        # Validation loop\n",
    "        model.eval()\n",
    "        val_loss = 0.0\n",
    "        all_predictions_raw = []\n",
    "        all_labels = []\n",
    "\n",
    "        # Validation loop with tqdm\n",
    "        for batch in tqdm(val_loader, desc=f\"Validation Epoch {epoch+1}\"):\n",
    "            inputs = batch['input_ids'].cuda()\n",
    "            attention_mask = batch['attention_mask'].cuda()\n",
    "            labels = batch['label'].cuda()\n",
    "\n",
    "            with torch.no_grad():\n",
    "                outputs = model(inputs, attention_mask=attention_mask, labels=labels)\n",
    "                logits = outputs.logits.squeeze(-1)\n",
    "                val_loss += criterion(logits, labels).item()\n",
    "                pred = F.sigmoid(logits)\n",
    "                \n",
    "                all_predictions_raw.append(pred.cpu())\n",
    "                all_labels.append(labels.cpu())\n",
    "\n",
    "        avg_val_loss = val_loss / len(val_loader)\n",
    "        \n",
    "\n",
    "        all_predictions_raw = torch.cat(all_predictions_raw)\n",
    "        all_labels = torch.cat(all_labels)\n",
    "        accuracy = accuracy_score(all_labels.numpy(), all_predictions_raw.numpy() >= 0.5)\n",
    "        f1 = f1_score(all_labels.numpy(), all_predictions_raw.numpy() >= 0.5, average='macro')\n",
    "        print(f\"Train Loss: {avg_train_loss}, Val Loss: {avg_val_loss}, Accuracy: {accuracy}, f1: {f1}\")\n",
    "\n",
    "        # print(f\"First predictions:\")\n",
    "        # i = 0\n",
    "        # for y_pred, y in zip(all_predictions_raw, all_labels):\n",
    "        #     print(f\"y_pred: {y_pred.item()}, y: {y}\")\n",
    "        #     i += 1\n",
    "        #     if i > 5:\n",
    "        #         break\n",
    "\n",
    "        print(\"\\n\")\n",
    "\n",
    "# Train the model\n",
    "for param in model.parameters():\n",
    "    param.requires_grad = False\n",
    "for param in model.classifier.parameters():\n",
    "    param.requires_grad = True\n",
    "for i in range(-3, 0):\n",
    "    # for param in model.roberta.encoder.layer[i].parameters():\n",
    "    for param in model.bert.encoder.layer[i].parameters():\n",
    "    # for param in model.deberta.encoder.layer[i].parameters():\n",
    "    # for param in model.electra.encoder.layer[i].parameters():\n",
    "        param.requires_grad = True\n",
    "optimizer = AdamW([param for param in model.parameters() if param.requires_grad], lr=1e-5)\n",
    "\n",
    "train(model, [1e-9], warmup_dataset, val_dataset)\n",
    "train(model, [1e-5], pretrain_dataset, val_dataset)\n",
    "train(model, [1e-5, 1e-5, 1e-5, 1e-5, 2e-6, 1e-6], train_dataset, val_dataset)"
   ]
  },
  {
   "cell_type": "code",
   "execution_count": null,
   "metadata": {},
   "outputs": [],
   "source": [
    "# Save the model\n",
    "model_name = model_name.replace(\"/\", \"_\")\n",
    "if not os.path.exists('ensemble'):\n",
    "    os.makedirs('ensemble')\n",
    "if not os.path.exists('ensemble/' + model_name):\n",
    "    os.makedirs('ensemble/' + model_name)\n",
    "torch.save(model, f'/kaggle/working/ensemble/{model_name}/model.pt' if kaggle else f'ensemble/{model_name}/model.pt')\n",
    "torch.save(tokenizer, f'/kaggle/working/ensemble/{model_name}/tokenizer.pt' if kaggle else f'ensemble/{model_name}/tokenizer.pt')\n",
    "print(\"saved\")"
   ]
  }
 ],
 "metadata": {
  "kernelspec": {
   "display_name": "base",
   "language": "python",
   "name": "python3"
  },
  "language_info": {
   "codemirror_mode": {
    "name": "ipython",
    "version": 3
   },
   "file_extension": ".py",
   "mimetype": "text/x-python",
   "name": "python",
   "nbconvert_exporter": "python",
   "pygments_lexer": "ipython3",
   "version": "3.9.7"
  },
  "orig_nbformat": 4
 },
 "nbformat": 4,
 "nbformat_minor": 2
}
