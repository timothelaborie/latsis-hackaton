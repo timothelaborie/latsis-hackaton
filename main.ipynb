{
 "cells": [
  {
   "cell_type": "code",
   "execution_count": 1,
   "metadata": {},
   "outputs": [],
   "source": [
    "import pandas as pd\n",
    "import numpy as np\n",
    "\n",
    "import os\n",
    "cwd = os.getcwd()\n",
    "kaggle = cwd == \"/kaggle/working\"\n",
    "\n",
    "# pretrain = pd.read_parquet(\"pretrain.parquet\")\n",
    "# train = pd.read_parquet(\"train.parquet\")\n",
    "# test = pd.read_parquet(\"test.parquet\")\n",
    "\n",
    "pretrain = pd.read_parquet((\"/kaggle/input/latsis-experiments/\" if kaggle else \"\") + \"pretrain.parquet\")\n",
    "train = pd.read_parquet((\"/kaggle/input/latsis-experiments/\" if kaggle else \"\") + \"train.parquet\")\n",
    "test = pd.read_parquet((\"/kaggle/input/latsis-experiments/\" if kaggle else \"\") + \"test.parquet\")\n",
    "\n",
    "#convert to string\n",
    "train[\"text\"] = train[\"text\"].astype(str)\n",
    "test[\"text\"] = test[\"text\"].astype(str)\n",
    "\n",
    "#keep only the first 1000 rows\n",
    "# pretrain = pretrain[:1000]\n",
    "# train = train[:100]\n",
    "test = test[:2500]"
   ]
  },
  {
   "cell_type": "code",
   "execution_count": 2,
   "metadata": {},
   "outputs": [
    {
     "data": {
      "text/plain": [
       "0.32650414937759337"
      ]
     },
     "execution_count": 2,
     "metadata": {},
     "output_type": "execute_result"
    }
   ],
   "source": [
    "train[\"label\"].sum()/len(train)"
   ]
  },
  {
   "cell_type": "code",
   "execution_count": 3,
   "metadata": {},
   "outputs": [
    {
     "name": "stdout",
     "output_type": "stream",
     "text": [
      "\n",
      "===================================BUG REPORT===================================\n",
      "Welcome to bitsandbytes. For bug reports, please run\n",
      "\n",
      "python -m bitsandbytes\n",
      "\n",
      " and submit this information together with your error trace to: https://github.com/TimDettmers/bitsandbytes/issues\n",
      "================================================================================\n",
      "bin c:\\ProgramData\\Anaconda3\\lib\\site-packages\\bitsandbytes\\libbitsandbytes_cuda116_nocublaslt.dll\n",
      "CUDA SETUP: CUDA runtime path found: C:\\Program Files\\NVIDIA GPU Computing Toolkit\\CUDA\\v11.6\\bin\\cudart64_110.dll\n",
      "CUDA SETUP: Highest compute capability among GPUs detected: 6.1\n",
      "CUDA SETUP: Detected CUDA version 116\n",
      "CUDA SETUP: Loading binary c:\\ProgramData\\Anaconda3\\lib\\site-packages\\bitsandbytes\\libbitsandbytes_cuda116_nocublaslt.dll...\n"
     ]
    },
    {
     "name": "stderr",
     "output_type": "stream",
     "text": [
      "c:\\ProgramData\\Anaconda3\\lib\\site-packages\\bitsandbytes\\cuda_setup\\main.py:152: UserWarning: C:\\ProgramData\\Anaconda3 did not contain ['cudart64_110.dll', 'cudart64_120.dll'] as expected! Searching further paths...\n",
      "  warn(msg)\n",
      "c:\\ProgramData\\Anaconda3\\lib\\site-packages\\bitsandbytes\\cuda_setup\\main.py:152: UserWarning: WARNING: The following directories listed in your path were found to be non-existent: {WindowsPath('C:/Program Files/NVIDIA/CUDNN/v8.x'), WindowsPath('C:/Program Files/NVIDIA GPU Computing Toolkit/CUDA/v11.2/libnvvp'), WindowsPath('C:/Users/Timothe/.dotnet/tools'), WindowsPath('C:/ProgramData/Anaconda3/Library/usr/bin'), WindowsPath('E:/texlive/2022/bin/win32'), WindowsPath('C:/Program Files/NVIDIA GPU Computing Toolkit/CUDA/v11.2/bin')}\n",
      "  warn(msg)\n",
      "c:\\ProgramData\\Anaconda3\\lib\\site-packages\\bitsandbytes\\cuda_setup\\main.py:152: UserWarning: WARNING: Compute capability < 7.5 detected! Only slow 8-bit matmul is supported for your GPU!\n",
      "  warn(msg)\n"
     ]
    },
    {
     "data": {
      "application/vnd.jupyter.widget-view+json": {
       "model_id": "2bcd5e7b03fe433c8785aabc095b72c0",
       "version_major": 2,
       "version_minor": 0
      },
      "text/plain": [
       "Downloading (…)lve/main/config.json:   0%|          | 0.00/690 [00:00<?, ?B/s]"
      ]
     },
     "metadata": {},
     "output_type": "display_data"
    },
    {
     "name": "stderr",
     "output_type": "stream",
     "text": [
      "c:\\ProgramData\\Anaconda3\\lib\\site-packages\\huggingface_hub\\file_download.py:133: UserWarning: `huggingface_hub` cache-system uses symlinks by default to efficiently store duplicated files but your machine does not support them in C:\\Users\\Timothe\\.cache\\huggingface\\hub. Caching files will still work but in a degraded version that might require more space on your disk. This warning can be disabled by setting the `HF_HUB_DISABLE_SYMLINKS_WARNING` environment variable. For more details, see https://huggingface.co/docs/huggingface_hub/how-to-cache#limitations.\n",
      "To support symlinks on Windows, you either need to activate Developer Mode or to run Python as an administrator. In order to see activate developer mode, see this article: https://docs.microsoft.com/en-us/windows/apps/get-started/enable-your-device-for-development\n",
      "  warnings.warn(message)\n"
     ]
    },
    {
     "data": {
      "application/vnd.jupyter.widget-view+json": {
       "model_id": "50a7f34d20eb4c0a92ccb4ceeee918b7",
       "version_major": 2,
       "version_minor": 0
      },
      "text/plain": [
       "Downloading model.safetensors:   0%|          | 0.00/2.24G [00:00<?, ?B/s]"
      ]
     },
     "metadata": {},
     "output_type": "display_data"
    },
    {
     "name": "stderr",
     "output_type": "stream",
     "text": [
      "Some weights of XLMRobertaForSequenceClassification were not initialized from the model checkpoint at intfloat/multilingual-e5-large and are newly initialized: ['classifier.out_proj.weight', 'classifier.dense.bias', 'classifier.out_proj.bias', 'classifier.dense.weight']\n",
      "You should probably TRAIN this model on a down-stream task to be able to use it for predictions and inference.\n"
     ]
    },
    {
     "data": {
      "application/vnd.jupyter.widget-view+json": {
       "model_id": "1b2054c3a77b46ec9e463a5da1bdcd6e",
       "version_major": 2,
       "version_minor": 0
      },
      "text/plain": [
       "Downloading (…)okenizer_config.json:   0%|          | 0.00/418 [00:00<?, ?B/s]"
      ]
     },
     "metadata": {},
     "output_type": "display_data"
    },
    {
     "data": {
      "application/vnd.jupyter.widget-view+json": {
       "model_id": "8323037aa25c4fefa21f6b0b552c2a62",
       "version_major": 2,
       "version_minor": 0
      },
      "text/plain": [
       "Downloading (…)tencepiece.bpe.model:   0%|          | 0.00/5.07M [00:00<?, ?B/s]"
      ]
     },
     "metadata": {},
     "output_type": "display_data"
    },
    {
     "data": {
      "application/vnd.jupyter.widget-view+json": {
       "model_id": "b13049b2dfd44b66abf4dcf39577d556",
       "version_major": 2,
       "version_minor": 0
      },
      "text/plain": [
       "Downloading tokenizer.json:   0%|          | 0.00/17.1M [00:00<?, ?B/s]"
      ]
     },
     "metadata": {},
     "output_type": "display_data"
    },
    {
     "data": {
      "application/vnd.jupyter.widget-view+json": {
       "model_id": "21ab83878d0143708e9ee55c1f41b7b4",
       "version_major": 2,
       "version_minor": 0
      },
      "text/plain": [
       "Downloading (…)cial_tokens_map.json:   0%|          | 0.00/280 [00:00<?, ?B/s]"
      ]
     },
     "metadata": {},
     "output_type": "display_data"
    },
    {
     "name": "stdout",
     "output_type": "stream",
     "text": [
      "model parameters:559891457\n"
     ]
    }
   ],
   "source": [
    "import torch\n",
    "from torch import nn\n",
    "from transformers import TrainingArguments, Trainer, AutoTokenizer, XLMRobertaTokenizerFast, AutoModelForSequenceClassification, AdamW, get_linear_schedule_with_warmup, TrainerCallback, TrainerControl, TrainingArguments\n",
    "# model = AutoModelForSequenceClassification.from_pretrained('xlm-roberta-base', num_labels=1)\n",
    "# tokenizer = XLMRobertaTokenizerFast.from_pretrained('xlm-roberta-base')\n",
    "# model = AutoModelForSequenceClassification.from_pretrained(\"microsoft/mdeberta-v3-base\", num_labels=1, ignore_mismatched_sizes=True)\n",
    "# tokenizer = AutoTokenizer.from_pretrained(\"microsoft/mdeberta-v3-base\")\n",
    "# model = AutoModelForSequenceClassification.from_pretrained('aari1995/German_Semantic_STS_V2', num_labels=1)\n",
    "# tokenizer = AutoTokenizer.from_pretrained('aari1995/German_Semantic_STS_V2')\n",
    "# model = AutoModelForSequenceClassification.from_pretrained(\"deepset/gelectra-base\", num_labels=1, ignore_mismatched_sizes=True)\n",
    "# tokenizer = AutoTokenizer.from_pretrained(\"deepset/gelectra-base\")\n",
    "# model = AutoModelForSequenceClassification.from_pretrained(\"PM-AI/sts_paraphrase_xlm-roberta-base_de-en\", num_labels=1, ignore_mismatched_sizes=True)\n",
    "# tokenizer = AutoTokenizer.from_pretrained(\"PM-AI/sts_paraphrase_xlm-roberta-base_de-en\")\n",
    "# model = AutoModelForSequenceClassification.from_pretrained(\"intfloat/multilingual-e5-large\", num_labels=1, ignore_mismatched_sizes=True)\n",
    "# tokenizer = AutoTokenizer.from_pretrained(\"intfloat/multilingual-e5-large\")\n",
    "model = AutoModelForSequenceClassification.from_pretrained(\"deutsche-telekom/gbert-large-paraphrase-euclidean\", num_labels=1, ignore_mismatched_sizes=True)\n",
    "tokenizer = AutoTokenizer.from_pretrained(\"deutsche-telekom/gbert-large-paraphrase-euclidean\")\n",
    "config = model.config\n",
    "tokenizer.model_max_length = config.max_position_embeddings\n",
    "# model.classifier.out_proj = nn.Sequential(\n",
    "#     nn.Linear(config.hidden_size, 1),\n",
    "#     nn.Sigmoid()\n",
    "# )\n",
    "\n",
    "\n",
    "\n",
    "print(\"model parameters:\" + str(sum(p.numel() for p in model.parameters())))"
   ]
  },
  {
   "cell_type": "code",
   "execution_count": 4,
   "metadata": {},
   "outputs": [
    {
     "name": "stdout",
     "output_type": "stream",
     "text": [
      "torch.Size([7712, 128]) torch.Size([7712, 128]) torch.Size([7712]) torch.Size([2500, 128]) torch.Size([2500, 128]) torch.Size([2500]) torch.Size([19133, 128]) torch.Size([19133, 128]) torch.Size([19133]) torch.Size([26845, 128]) torch.Size([26845, 128]) torch.Size([26845])\n"
     ]
    }
   ],
   "source": [
    "from torch.utils.data import Dataset\n",
    "import torch\n",
    "import numpy as np\n",
    "\n",
    "max_length = 128\n",
    "\n",
    "def encode_texts(tokenizer, texts):\n",
    "    input_ids = []\n",
    "    attention_masks = []\n",
    "    for text in texts:\n",
    "        encoding = tokenizer.encode_plus(\n",
    "            text,\n",
    "            add_special_tokens=True,\n",
    "            max_length=max_length,\n",
    "            truncation=True,\n",
    "            padding='max_length',\n",
    "            return_attention_mask=True\n",
    "        )\n",
    "        input_ids.append(encoding['input_ids'])\n",
    "        attention_masks.append(encoding['attention_mask'])\n",
    "    return torch.tensor(input_ids), torch.tensor(attention_masks)\n",
    "\n",
    "pretrain_x, pretrain_attention_mask = encode_texts(tokenizer, pretrain['text'])\n",
    "pretrain_y = torch.tensor(np.array(pretrain['label'].tolist()), dtype=torch.float32)\n",
    "\n",
    "train_x, train_attention_mask = encode_texts(tokenizer, train['text'])\n",
    "train_y = torch.tensor(np.array(train['label'].tolist()), dtype=torch.float32)\n",
    "\n",
    "test_x, test_attention_mask = encode_texts(tokenizer, test['text'])\n",
    "test_y = torch.tensor(np.array(test['label'].tolist()), dtype=torch.float32)\n",
    "\n",
    "#mix of train and pretrain\n",
    "mixed_x = torch.cat((train_x, pretrain_x))\n",
    "mixed_attention_mask = torch.cat((train_attention_mask, pretrain_attention_mask))\n",
    "mixed_y = torch.cat((train_y, pretrain_y))\n",
    "\n",
    "\n",
    "class CustomDataset(Dataset):\n",
    "    def __init__(self, input_ids, attention_mask, label):\n",
    "        self.input_ids = input_ids\n",
    "        self.attention_mask = attention_mask\n",
    "        self.label = label\n",
    "\n",
    "    def __len__(self):\n",
    "        return len(self.input_ids)\n",
    "\n",
    "    def __getitem__(self, idx):\n",
    "        return {\n",
    "            'input_ids': self.input_ids[idx],\n",
    "            'attention_mask': self.attention_mask[idx],\n",
    "            'label': self.label[idx],\n",
    "        }\n",
    "\n",
    "pretrain_dataset = CustomDataset(pretrain_x, pretrain_attention_mask, pretrain_y)\n",
    "train_dataset = CustomDataset(train_x, train_attention_mask, train_y)\n",
    "val_dataset = CustomDataset(test_x, test_attention_mask, test_y)\n",
    "mixed_dataset = CustomDataset(mixed_x, mixed_attention_mask, mixed_y)\n",
    "\n",
    "print(train_x.shape, train_attention_mask.shape, train_y.shape, test_x.shape, test_attention_mask.shape, test_y.shape, pretrain_x.shape, pretrain_attention_mask.shape, pretrain_y.shape, mixed_x.shape, mixed_attention_mask.shape, mixed_y.shape)\n"
   ]
  },
  {
   "cell_type": "code",
   "execution_count": 5,
   "metadata": {},
   "outputs": [
    {
     "name": "stderr",
     "output_type": "stream",
     "text": [
      "c:\\ProgramData\\Anaconda3\\lib\\site-packages\\transformers\\optimization.py:411: FutureWarning: This implementation of AdamW is deprecated and will be removed in a future version. Use the PyTorch implementation torch.optim.AdamW instead, or set `no_deprecation_warning=True` to disable this warning\n",
      "  warnings.warn(\n",
      "Training Epoch 1: 100%|██████████| 1928/1928 [03:37<00:00,  8.87it/s]\n",
      "Validation Epoch 1: 100%|██████████| 625/625 [00:53<00:00, 11.74it/s]\n"
     ]
    },
    {
     "name": "stdout",
     "output_type": "stream",
     "text": [
      "Train Loss: 0.6680077667738392, Val Loss: 0.6586038119316101, Accuracy: 0.6604\n",
      "tresh: 0.2, f1: 0.2431123221313957\n",
      "tresh: 0.25, f1: 0.2431123221313957\n",
      "tresh: 0.3, f1: 0.2431123221313957\n",
      "tresh: 0.35, f1: 0.24443678133456628\n",
      "tresh: 0.39999999999999997, f1: 0.2993631787576275\n",
      "tresh: 0.44999999999999996, f1: 0.5291500142036318\n",
      "tresh: 0.49999999999999994, f1: 0.45830699305892825\n",
      "tresh: 0.5499999999999999, f1: 0.4037681850703553\n",
      "tresh: 0.5999999999999999, f1: 0.40433643078389325\n",
      "tresh: 0.6499999999999999, f1: 0.40433643078389325\n",
      "tresh: 0.7, f1: 0.40433643078389325\n",
      "\n",
      "\n"
     ]
    },
    {
     "name": "stderr",
     "output_type": "stream",
     "text": [
      "Training Epoch 2:   4%|▍         | 82/1928 [00:09<03:39,  8.42it/s]"
     ]
    },
    {
     "name": "stderr",
     "output_type": "stream",
     "text": [
      "Training Epoch 2:   5%|▍         | 88/1928 [00:10<03:41,  8.31it/s]"
     ]
    }
   ],
   "source": [
    "import torch\n",
    "from torch import nn\n",
    "from torch.nn import BCEWithLogitsLoss\n",
    "from torch.utils.data import DataLoader\n",
    "from transformers import AutoModelForSequenceClassification, AdamW, get_linear_schedule_with_warmup\n",
    "from tqdm import tqdm\n",
    "from sklearn.metrics import accuracy_score, f1_score\n",
    "import torch.nn.functional as F\n",
    "\n",
    "model = model.cuda()\n",
    "optimizer = None\n",
    "\n",
    "\n",
    "\n",
    "criterion = BCEWithLogitsLoss()\n",
    "\n",
    "# Training function\n",
    "def train(model, lr_per_epoch, train_dataset, val_dataset):\n",
    "    train_loader = DataLoader(train_dataset, batch_size=4, shuffle=True)\n",
    "    val_loader = DataLoader(val_dataset, batch_size=4)\n",
    "\n",
    "    for epoch in range(len(lr_per_epoch)):\n",
    "        model.train()\n",
    "        lr = lr_per_epoch[epoch]\n",
    "        optimizer.param_groups[0]['lr'] = lr\n",
    "        train_loss = 0.0\n",
    "\n",
    "        # Training loop with tqdm\n",
    "        for batch in tqdm(train_loader, desc=f\"Training Epoch {epoch+1}\"):\n",
    "            inputs = batch['input_ids'].cuda()\n",
    "            attention_mask = batch['attention_mask'].cuda()\n",
    "            labels = batch['label'].cuda()\n",
    "\n",
    "            outputs = model(inputs, attention_mask=attention_mask)\n",
    "            logits = outputs.logits.squeeze(-1)  # Remove the last dimension\n",
    "\n",
    "            loss = criterion(logits, labels)\n",
    "            loss.backward()\n",
    "\n",
    "            optimizer.step()\n",
    "            optimizer.zero_grad()\n",
    "            \n",
    "            train_loss += loss.item()\n",
    "            \n",
    "        avg_train_loss = train_loss / len(train_loader)\n",
    "        \n",
    "\n",
    "        # Validation loop\n",
    "        model.eval()\n",
    "        val_loss = 0.0\n",
    "        all_predictions_raw = []\n",
    "        all_labels = []\n",
    "\n",
    "        # Validation loop with tqdm\n",
    "        for batch in tqdm(val_loader, desc=f\"Validation Epoch {epoch+1}\"):\n",
    "            inputs = batch['input_ids'].cuda()\n",
    "            attention_mask = batch['attention_mask'].cuda()\n",
    "            labels = batch['label'].cuda()\n",
    "\n",
    "            with torch.no_grad():\n",
    "                outputs = model(inputs, attention_mask=attention_mask, labels=labels)\n",
    "                logits = outputs.logits.squeeze(-1)\n",
    "                val_loss += criterion(logits, labels).item()\n",
    "                pred = F.sigmoid(logits)\n",
    "                \n",
    "                all_predictions_raw.append(pred.cpu())\n",
    "                all_labels.append(labels.cpu())\n",
    "\n",
    "        avg_val_loss = val_loss / len(val_loader)\n",
    "        \n",
    "\n",
    "        all_predictions_raw = torch.cat(all_predictions_raw)\n",
    "        all_labels = torch.cat(all_labels)\n",
    "        accuracy = accuracy_score(all_labels.numpy(), all_predictions_raw.numpy() >= 0.5)\n",
    "        print(f\"Train Loss: {avg_train_loss}, Val Loss: {avg_val_loss}, Accuracy: {accuracy}\")\n",
    "        # test different treshholds\n",
    "        for tresh in np.arange(0.2, 0.75, 0.05):\n",
    "            f1 = f1_score(all_labels.numpy(), all_predictions_raw.numpy() >= tresh, average='macro')\n",
    "            print(f\"tresh: {tresh}, f1: {f1}\")\n",
    "\n",
    "        \n",
    "\n",
    "        # print(f\"First predictions:\")\n",
    "        # i = 0\n",
    "        # for y_pred, y in zip(all_predictions_raw, all_labels):\n",
    "        #     print(f\"y_pred: {y_pred.item()}, y: {y}\")\n",
    "        #     i += 1\n",
    "        #     if i > 5:\n",
    "        #         break\n",
    "\n",
    "        print(\"\\n\")\n",
    "\n",
    "# Train the model\n",
    "\n",
    "# for param in model.parameters():\n",
    "#     param.requires_grad = False\n",
    "# for param in model.classifier.parameters():\n",
    "#     param.requires_grad = True\n",
    "# for i in range(-3, 0):\n",
    "#     for param in model.roberta.encoder.layer[i].parameters():\n",
    "#         param.requires_grad = True\n",
    "# optimizer = AdamW([param for param in model.parameters() if param.requires_grad], lr=1e-5)\n",
    "\n",
    "# train(model, [1e-9, 1e-5, 1e-5, 1e-5], mixed_dataset, val_dataset)\n",
    "\n",
    "\n",
    "\n",
    "for param in model.parameters():\n",
    "    param.requires_grad = False\n",
    "for param in model.classifier.parameters():\n",
    "    param.requires_grad = True\n",
    "for i in range(-3, 0):\n",
    "    for param in model.roberta.encoder.layer[i].parameters():\n",
    "    # for param in model.bert.encoder.layer[i].parameters():\n",
    "    # for param in model.deberta.encoder.layer[i].parameters():\n",
    "    # for param in model.electra.encoder.layer[i].parameters():\n",
    "        param.requires_grad = True\n",
    "optimizer = AdamW([param for param in model.parameters() if param.requires_grad], lr=1e-5)\n",
    "\n",
    "train(model, [1e-9, 1e-5, 1e-5, 1e-5, 1e-5, 1e-5, 1e-6], train_dataset, val_dataset)\n",
    "\n",
    "# Save the model\n",
    "torch.save(model, '/kaggle/working/model.pt' if kaggle else 'model.pt')\n",
    "torch.save(tokenizer, '/kaggle/working/tokenizer.pt' if kaggle else 'tokenizer.pt')\n",
    "print(\"saved\")"
   ]
  },
  {
   "cell_type": "code",
   "execution_count": null,
   "metadata": {},
   "outputs": [
    {
     "data": {
      "text/plain": [
       "XLMRobertaForSequenceClassification(\n",
       "  (roberta): XLMRobertaModel(\n",
       "    (embeddings): XLMRobertaEmbeddings(\n",
       "      (word_embeddings): Embedding(250002, 768, padding_idx=1)\n",
       "      (position_embeddings): Embedding(514, 768, padding_idx=1)\n",
       "      (token_type_embeddings): Embedding(1, 768)\n",
       "      (LayerNorm): LayerNorm((768,), eps=1e-05, elementwise_affine=True)\n",
       "      (dropout): Dropout(p=0.1, inplace=False)\n",
       "    )\n",
       "    (encoder): XLMRobertaEncoder(\n",
       "      (layer): ModuleList(\n",
       "        (0-11): 12 x XLMRobertaLayer(\n",
       "          (attention): XLMRobertaAttention(\n",
       "            (self): XLMRobertaSelfAttention(\n",
       "              (query): Linear(in_features=768, out_features=768, bias=True)\n",
       "              (key): Linear(in_features=768, out_features=768, bias=True)\n",
       "              (value): Linear(in_features=768, out_features=768, bias=True)\n",
       "              (dropout): Dropout(p=0.1, inplace=False)\n",
       "            )\n",
       "            (output): XLMRobertaSelfOutput(\n",
       "              (dense): Linear(in_features=768, out_features=768, bias=True)\n",
       "              (LayerNorm): LayerNorm((768,), eps=1e-05, elementwise_affine=True)\n",
       "              (dropout): Dropout(p=0.1, inplace=False)\n",
       "            )\n",
       "          )\n",
       "          (intermediate): XLMRobertaIntermediate(\n",
       "            (dense): Linear(in_features=768, out_features=3072, bias=True)\n",
       "            (intermediate_act_fn): GELUActivation()\n",
       "          )\n",
       "          (output): XLMRobertaOutput(\n",
       "            (dense): Linear(in_features=3072, out_features=768, bias=True)\n",
       "            (LayerNorm): LayerNorm((768,), eps=1e-05, elementwise_affine=True)\n",
       "            (dropout): Dropout(p=0.1, inplace=False)\n",
       "          )\n",
       "        )\n",
       "      )\n",
       "    )\n",
       "  )\n",
       "  (classifier): XLMRobertaClassificationHead(\n",
       "    (dense): Linear(in_features=768, out_features=768, bias=True)\n",
       "    (dropout): Dropout(p=0.1, inplace=False)\n",
       "    (out_proj): Linear(in_features=768, out_features=1, bias=True)\n",
       "  )\n",
       ")"
      ]
     },
     "execution_count": 7,
     "metadata": {},
     "output_type": "execute_result"
    }
   ],
   "source": [
    "model"
   ]
  }
 ],
 "metadata": {
  "kernelspec": {
   "display_name": "base",
   "language": "python",
   "name": "python3"
  },
  "language_info": {
   "codemirror_mode": {
    "name": "ipython",
    "version": 3
   },
   "file_extension": ".py",
   "mimetype": "text/x-python",
   "name": "python",
   "nbconvert_exporter": "python",
   "pygments_lexer": "ipython3",
   "version": "3.9.7"
  },
  "orig_nbformat": 4
 },
 "nbformat": 4,
 "nbformat_minor": 2
}
